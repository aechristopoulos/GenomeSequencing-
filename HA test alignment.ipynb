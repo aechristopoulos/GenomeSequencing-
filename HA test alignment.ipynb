{
 "cells": [
  {
   "cell_type": "code",
   "execution_count": 4,
   "metadata": {},
   "outputs": [
    {
     "name": "stdout",
     "output_type": "stream",
     "text": [
      "GGAAAACAAAAGCAACAAAAATGAAGGCAATACTAGTAGTTCTGCTATATACATTTACAACCGCAAATGCAGACACATTATGTATAGGTTATCATGCGAACAATTCAACAGACACTGTAGACACAGTACTAGAAAAGAATGTAACAGTAACACACTCTGTTAATCTTCTGGAAGACAAGCATAACGGAAAACTATGCAAA\n"
     ]
    }
   ],
   "source": [
    "#imports \n",
    "from Bio.Seq import Seq\n",
    "from Bio import SeqIO\n",
    "from Bio import pairwise2 #does pairwise alignments \n",
    "from Bio.pairwise2 import format_alignment #formats pairwise alignments to be more readable\n",
    "from Bio import Align\n",
    "from Bio.SeqRecord import SeqRecord\n",
    "from Bio.Align.Applications import ClustalwCommandline\n",
    "from Bio import AlignIO\n",
    "\n",
    "\n",
    "#editing HA sequences:\n",
    "\n",
    "HA_H1_text = list(SeqIO.parse(\"sequences/HA_H1_sequences.fa\", \"fasta\"))[0].seq.upper()\n",
    "\n",
    "HA_H1_sequences = Seq(HA_H1_text)\n",
    "\n",
    "\n",
    "HA_H1_forward = HA_H1_sequences[0:200]\n",
    "print(HA_H1_forward)\n",
    "\n",
    "\n",
    "\n"
   ]
  },
  {
   "cell_type": "code",
   "execution_count": null,
   "metadata": {},
   "outputs": [],
   "source": []
  }
 ],
 "metadata": {
  "kernelspec": {
   "display_name": "Python 3",
   "language": "python",
   "name": "python3"
  },
  "language_info": {
   "codemirror_mode": {
    "name": "ipython",
    "version": 3
   },
   "file_extension": ".py",
   "mimetype": "text/x-python",
   "name": "python",
   "nbconvert_exporter": "python",
   "pygments_lexer": "ipython3",
   "version": "3.10.7"
  },
  "orig_nbformat": 4,
  "vscode": {
   "interpreter": {
    "hash": "084e053c2c9557cc0a7f274e7cacebb6df76133b838d0fdcfcac2d4082fe9894"
   }
  }
 },
 "nbformat": 4,
 "nbformat_minor": 2
}
