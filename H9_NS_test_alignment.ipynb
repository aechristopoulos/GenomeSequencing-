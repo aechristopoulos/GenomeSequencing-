{
 "cells": [
  {
   "cell_type": "code",
   "execution_count": 2,
   "metadata": {},
   "outputs": [],
   "source": [
    "from collections import namedtuple\n",
    "\n",
    "SequenceRecordInformation = namedtuple(\"SequenceRecordInformation\", [\"ForwardSequence\", \"ReverseSequence\", \"ForwardSequenceLength\", \"ReverseSequenceLength\", \"Id\", \"Description\"])"
   ]
  },
  {
   "cell_type": "code",
   "execution_count": 3,
   "metadata": {},
   "outputs": [],
   "source": [
    "#imports \n",
    "from Bio.Seq import Seq\n",
    "from Bio import SeqIO\n",
    "from Bio import Align\n",
    "from Bio.SeqRecord import SeqRecord\n",
    "from Bio.Align.Applications import ClustalwCommandline\n",
    "from Bio import AlignIO\n",
    "\n",
    "#For loop for turning the .fa files into usable variables and returning the lengths of the sequences. \n",
    "NS_H9 = list(SeqIO.parse(\"db/NS/sequences/NS_H9_sequences.fa\", \"fasta\"))\n",
    "\n",
    "sequence_record_information = []\n",
    "\n",
    "for sequence in NS_H9: \n",
    "        NS_H9_text = sequence.seq.upper()\n",
    "        NS_H9_sequence = Seq(NS_H9_text)\n",
    "        # print(len(NS_H9_sequence))\n",
    "        forward_sequence = NS_H9_sequence[0:200]\n",
    "        reverse_sequence = NS_H9_sequence[-200:]\n",
    "        sr = SequenceRecordInformation(forward_sequence, reverse_sequence, len(forward_sequence), len(reverse_sequence), sequence.id, sequence.description)\n",
    "        sequence_record_information.append(sr)\n",
    "        "
   ]
  },
  {
   "attachments": {},
   "cell_type": "markdown",
   "metadata": {},
   "source": [
    "SeqIo.parse takes the .fa files and turns them into usable variables that we can then maniplualte. The first two lines of the for loop turn the now usable .fa file into a sequence object where all the text is in uppercase. It then prints the length of each of the sequences includes in the .fa file. The fourth and fifth lines of the for loop slice the sequences so that only the first and last 200 basepairs are included and saves these edited sequences as usable variables (forward and reverse sequence respectably). It then prints the edited sequences and the lengths of the sequences to ensure that they the correct sequences and are only 200 basepairs long. "
   ]
  },
  {
   "cell_type": "code",
   "execution_count": 4,
   "metadata": {},
   "outputs": [
    {
     "name": "stdout",
     "output_type": "stream",
     "text": [
      "Sequence ID: MF440740\n",
      "Sequence Description: MF440740 A/Beijing/1/2017 2017/04/28 8 (NS)\n",
      "Forward Sequence: ATGGATTCCAATACTGTGTCAAGCTTCCAGGTAGACTGCTTTCTTTGGCATGTCCGCAAACGATTTGCAGACCAAGAAATGGGTGATGCCCCATTTCTAGACCGGCTTCGCCGAGATCAGAAGTCCCTGAGAGGAAGAAGCAGCACTCTTGGTCTGGACATCAGAACCGCCACGCATGAAGGAAAGCATATAGTGGAGCG\n",
      "Reverse Sequence: TGGAGAGAACAGTTAAGCCAGAAATTCGAAGAAATAAGATGGTTGATTGAAGAAGTACGACATAGATTAAAAATTACGGAGAATAGCTTTGAGCAAATAACTTTTATGCAAGCCTTACAACTATTGCTTGAAGTGGAGCAAGAGATAAGAACTTTCTCGTTTCAGCTTATTTAATGATAAAAAACACCCTTGTTTCTACT\n",
      "Forward Sequence Length: 200\n",
      "Reverse Sequence Length: 200\n",
      "\n",
      "Sequence ID: MK673900\n",
      "Sequence Description: MK673900 A/India/TCM2581/2019 2019/02/02 8 (NS)\n",
      "Forward Sequence: AGCAGGGTGACAAAAACATAATGGATTCCAACACTGTGTCAAGCTTTCAGGTAGATTGCTTTCTTTGGCATGTCCGCAAACGATTTGCAGACCAAGAACTGTGTGATGCCCCATTCCTTGACCGGCTTCGCCGAGATCAGAAGTCCTTAAGAGGAAGGAGCAGCACTCTTGGTCTGAATATCGAGACAGCTACTCGTGCA\n",
      "Reverse Sequence: CAGAAATGGGAAATGGCGAGAACAATTAAGCCAGAAGTTTGGGGAGATAAGATGGCTAATTGAAGAAGTGCGACATAGACTGAAAATCACAGAGAACAGTTTCGAACAAATAACGTTTATGCAAGCCTTACAACTACTACTTGAAGTGGAGCAAGAGATAAGAACTTTCTCGTTTCAGCTTATTTAATGATAAAAAACAC\n",
      "Forward Sequence Length: 200\n",
      "Reverse Sequence Length: 200\n",
      "\n",
      "Sequence ID: MT875141\n",
      "Sequence Description: MT875141 A/China/A_Szuhou_GIRD01_2019/2019 2019/03/ 8 (NS)\n",
      "Forward Sequence: ATGGATTCCAATACTGTGTCAAGCTTCCAGGTAGACTGCTTTCTTTGGCATGTCCGCAAACGATTTGCAGACCAAGAAATGGGCGATGCCCCATTTCTAGACCGGCTTCGCCGAGATCAGAAGTCCCTGAGGGGAAGAAGCAGCACCCTTGGTCTAGACATCAGAACTGCCACGCGTGAAGGAAAGCATATAGTGGAGCG\n",
      "Reverse Sequence: ACTCTCTACAAAGTAGAAACGGGAAATGGAGAGAACAGTTAAGCCAGAAGTTCGAAGAGATAAGATGGTTGATTGAAGAAGTACGACATAGATTAAAAATTACGGAGAATAGCTTTGAGCAAATAACTTTTATGCAAGCCTTACAACTATTGCTTGAAGTGGAGCAAGAGATAAGAACTTTCTCGTTTCAGCTTATTTAA\n",
      "Forward Sequence Length: 200\n",
      "Reverse Sequence Length: 200\n",
      "\n"
     ]
    }
   ],
   "source": [
    "for sequences in sequence_record_information:\n",
    "        print(f'Sequence ID: {sequences.Id}')\n",
    "        print(f'Sequence Description: {sequences.Description}')\n",
    "        print(f'Forward Sequence: {sequences.ForwardSequence}')\n",
    "        print(f'Reverse Sequence: {sequences.ReverseSequence}')\n",
    "        print(f'Forward Sequence Length: {sequences.ForwardSequenceLength}')\n",
    "        print(f'Reverse Sequence Length: {sequences.ReverseSequenceLength}') \n",
    "        print()"
   ]
  },
  {
   "cell_type": "code",
   "execution_count": 5,
   "metadata": {},
   "outputs": [],
   "source": [
    "#Turning edited sequences into sequence record object to be used in alignments \n",
    "\n",
    "forward_sequence_records = []\n",
    "reverse_sequence_records = []\n",
    "\n",
    "for record_information in sequence_record_information: \n",
    "    forward_record = SeqRecord(record_information.ForwardSequence, id = record_information.Id, description = record_information.Description)\n",
    "    reverse_record = SeqRecord(record_information.ReverseSequence, id = record_information.Id, description= record_information.Description)\n",
    "    forward_sequence_records.append(forward_record)\n",
    "    reverse_sequence_records.append(reverse_record)\n",
    "\n",
    " "
   ]
  },
  {
   "cell_type": "code",
   "execution_count": 6,
   "metadata": {},
   "outputs": [
    {
     "data": {
      "text/plain": [
       "1"
      ]
     },
     "execution_count": 6,
     "metadata": {},
     "output_type": "execute_result"
    }
   ],
   "source": [
    "#Making the primers into sequence record objects, and saving them as .fasta files  \n",
    "NS_forward_primer= SeqRecord(Seq(\"GCAAAAGCAGGGTGACAAA\"), id= \"NS Forward 1.2\", description= \"Forward primer\")\n",
    "NS_reverse_primer= Seq(\"GATCAGTAGAAACAAGGGTGTT\")\n",
    "NS_reverse_compliment = Seq(NS_reverse_primer.reverse_complement())\n",
    "NS_revcomp_primer= SeqRecord(Seq(NS_reverse_compliment), id= \"NS Reverse 1.1\", description= \"Reverse primer reverse compliment\")\n",
    "\n",
    "SeqIO.write(NS_forward_primer, \"NS_forward_primer.fasta\", \"fasta\")\n",
    "SeqIO.write(NS_revcomp_primer, \"NS_revcomp_primer.fasta\", \"fasta\")"
   ]
  },
  {
   "cell_type": "code",
   "execution_count": 7,
   "metadata": {},
   "outputs": [
    {
     "data": {
      "text/plain": [
       "4"
      ]
     },
     "execution_count": 7,
     "metadata": {},
     "output_type": "execute_result"
    }
   ],
   "source": [
    "#List of sequences to be aligned\n",
    "H9_NS_edited_forward = forward_sequence_records + [NS_forward_primer]\n",
    "H9_NS_edited_reverse = reverse_sequence_records + [NS_revcomp_primer]\n",
    "\n",
    "\n",
    "\n",
    "#Saving list of sequences to be aligned as .fasta files \n",
    "SeqIO.write(H9_NS_edited_forward, \"H9_NS_edited_forward.fasta\", \"fasta\")\n",
    "SeqIO.write(H9_NS_edited_reverse, \"H9_NS_edited_reverse.fasta\", \"fasta\")"
   ]
  },
  {
   "cell_type": "code",
   "execution_count": 8,
   "metadata": {},
   "outputs": [
    {
     "name": "stdout",
     "output_type": "stream",
     "text": [
      "clustalw2 -infile=H9_NS_edited_forward.fasta\n",
      "Alignment with 4 rows and 220 columns\n",
      "--------------------ATGGATTCCAATACTGTGTCAAGC...GCG MF440740\n",
      "--------------------ATGGATTCCAATACTGTGTCAAGC...GCG MT875141\n",
      "AGCAGGGTGACAAAAACATAATGGATTCCAACACTGTGTCAAGC...--- MK673900\n",
      "--------------------------------------------...--- NS\n",
      "clustalw2 -infile=H9_NS_edited_reverse.fasta\n",
      "Alignment with 4 rows and 226 columns\n",
      "-------------CAGAAATGGGAAATGGCGAGAACAATTAAGC...--- MK673900\n",
      "ACTCTCTACAAAGTAGAAACGGGAAATGGAGAGAACAGTTAAGC...--- MT875141\n",
      "--------------------------TGGAGAGAACAGTTAAGC...ACT MF440740\n",
      "--------------------------------------------...--- NS\n"
     ]
    }
   ],
   "source": [
    "###ClustalW alignment \n",
    "#Forward sequences alignment\n",
    "cline = ClustalwCommandline(\"clustalw2\", infile='H9_NS_edited_forward.fasta')\n",
    "print(cline)\n",
    "\n",
    "stdout, stderr = cline()\n",
    "\n",
    "align = AlignIO.read(\"H9_NS_edited_forward.aln\", \"clustal\")\n",
    "print(align)\n",
    "\n",
    "\n",
    "#Reverse sequences alignment \n",
    "cline = ClustalwCommandline(\"clustalw2\", infile='H9_NS_edited_reverse.fasta')\n",
    "print(cline)\n",
    "\n",
    "stdout, stderr = cline()\n",
    "\n",
    "align = AlignIO.read(\"H9_NS_edited_reverse.aln\", \"clustal\")\n",
    "print(align)\n"
   ]
  }
 ],
 "metadata": {
  "kernelspec": {
   "display_name": "Python 3",
   "language": "python",
   "name": "python3"
  },
  "language_info": {
   "codemirror_mode": {
    "name": "ipython",
    "version": 3
   },
   "file_extension": ".py",
   "mimetype": "text/x-python",
   "name": "python",
   "nbconvert_exporter": "python",
   "pygments_lexer": "ipython3",
   "version": "3.10.7"
  },
  "orig_nbformat": 4,
  "vscode": {
   "interpreter": {
    "hash": "084e053c2c9557cc0a7f274e7cacebb6df76133b838d0fdcfcac2d4082fe9894"
   }
  }
 },
 "nbformat": 4,
 "nbformat_minor": 2
}
