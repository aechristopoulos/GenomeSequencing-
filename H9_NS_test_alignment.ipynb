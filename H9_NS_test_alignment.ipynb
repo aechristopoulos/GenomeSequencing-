{
 "cells": [
  {
   "cell_type": "code",
   "execution_count": 1,
   "metadata": {},
   "outputs": [
    {
     "name": "stdout",
     "output_type": "stream",
     "text": [
      "864\n",
      "TGGAGAGAACAGTTAAGCCAGAAATTCGAAGAAATAAGATGGTTGATTGAAGAAGTACGACATAGATTAAAAATTACGGAGAATAGCTTTGAGCAAATAACTTTTATGCAAGCCTTACAACTATTGCTTGAAGTGGAGCAAGAGATAAGAACTTTCTCGTTTCAGCTTATTTAATGATAAAAAACACCCTTGTTTCTACT\n",
      "200\n",
      "871\n",
      "CAGAAATGGGAAATGGCGAGAACAATTAAGCCAGAAGTTTGGGGAGATAAGATGGCTAATTGAAGAAGTGCGACATAGACTGAAAATCACAGAGAACAGTTTCGAACAAATAACGTTTATGCAAGCCTTACAACTACTACTTGAAGTGGAGCAAGAGATAAGAACTTTCTCGTTTCAGCTTATTTAATGATAAAAAACAC\n",
      "200\n",
      "838\n",
      "ACTCTCTACAAAGTAGAAACGGGAAATGGAGAGAACAGTTAAGCCAGAAGTTCGAAGAGATAAGATGGTTGATTGAAGAAGTACGACATAGATTAAAAATTACGGAGAATAGCTTTGAGCAAATAACTTTTATGCAAGCCTTACAACTATTGCTTGAAGTGGAGCAAGAGATAAGAACTTTCTCGTTTCAGCTTATTTAA\n",
      "200\n"
     ]
    }
   ],
   "source": [
    "#imports \n",
    "from Bio.Seq import Seq\n",
    "from Bio import SeqIO\n",
    "from Bio import Align\n",
    "from Bio.SeqRecord import SeqRecord\n",
    "from Bio.Align.Applications import ClustalwCommandline\n",
    "from Bio import AlignIO\n",
    "\n",
    "#For loop for turning the .fa files into usable variables and returning the lengths of the sequences. \n",
    "NS_H9 = list(SeqIO.parse(\"sequences/NS_H9_sequences.fa\", \"fasta\"))\n",
    "\n",
    "for sequence in NS_H9: \n",
    "        NS_H9_text = sequence.seq.upper()\n",
    "        NS_H9_sequence = Seq(NS_H9_text)\n",
    "        print(len(NS_H9_sequence))\n",
    "        forward_sequence = NS_H9_sequence[0:200]\n",
    "        reverse_sequence = NS_H9_sequence[-200:]\n",
    "        print(reverse_sequence)\n",
    "        print(len(reverse_sequence))"
   ]
  },
  {
   "attachments": {},
   "cell_type": "markdown",
   "metadata": {},
   "source": [
    "SeqIo.parse takes the .fa files and turns them into usable variables that we can then maniplualte. The first two lines of the for loop turn the now usable .fa file into a sequence object where all the text is in uppercase. It then prints the length of each of the sequences includes in the .fa file. The fourth and fifth lines of the for loop slice the sequences so that only the first and last 200 basepairs are included and saves these edited sequences as usable variables. It them prints the reverse (i.e. the last 200 bps) sequences and the lengths of the reverse sequences to ensure that they are only 200 basepairs long. "
   ]
  },
  {
   "cell_type": "code",
   "execution_count": null,
   "metadata": {},
   "outputs": [],
   "source": []
  }
 ],
 "metadata": {
  "kernelspec": {
   "display_name": "Python 3",
   "language": "python",
   "name": "python3"
  },
  "language_info": {
   "codemirror_mode": {
    "name": "ipython",
    "version": 3
   },
   "file_extension": ".py",
   "mimetype": "text/x-python",
   "name": "python",
   "nbconvert_exporter": "python",
   "pygments_lexer": "ipython3",
   "version": "3.10.7"
  },
  "orig_nbformat": 4,
  "vscode": {
   "interpreter": {
    "hash": "084e053c2c9557cc0a7f274e7cacebb6df76133b838d0fdcfcac2d4082fe9894"
   }
  }
 },
 "nbformat": 4,
 "nbformat_minor": 2
}
